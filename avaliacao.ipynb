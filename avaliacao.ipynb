{
 "cells": [
  {
   "cell_type": "markdown",
   "metadata": {},
   "source": [
    "# <b>Avaliação Bancos de Dados I</b>\n",
    "---"
   ]
  },
  {
   "cell_type": "markdown",
   "metadata": {},
   "source": [
    "## <b>Modelagem e normalização de bancos de dados relacionais</b>"
   ]
  },
  {
   "cell_type": "markdown",
   "metadata": {},
   "source": [
    "#### Certo dia, um dos gestores do banco em que você trabalha como cientista de dados procurou você pedindo ajuda para projetar um pequeno banco de dados com o objetivo de mapear os clientes da companhia pelos diferentes produtos financeiros que eles contrataram.\n",
    "\n",
    "#### O gestor explicou que o banco tinha uma grande quantidade de clientes e oferecia uma variedade de produtos financeiros, como cartões de crédito, empréstimos, seguros e investimentos. No entanto, eles estavam tendo dificuldades para entender quais produtos eram mais populares entre os clientes e como esses produtos estavam interagindo entre si.\n",
    "\n",
    "#### Como ponto de partida, o gestor deixou claro que um cliente pode contratar vários produtos diferentes ao passo que um mesmo produto pode também estar associado a vários clientes diferentes e elaborou um rústico esboço de banco de dados com duas tabelas, da seguinte forma:"
   ]
  },
  {
   "cell_type": "markdown",
   "metadata": {},
   "source": [
    "#### <b>Tabela 1</b>\n",
    "\n",
    "#### Nome da tabela: cliente\n",
    "#### Colunas: codigo_cliente, nome_cliente, sobrenome_cliente, telefones_cliente, municipio_cliente, codigo_tipo_cliente, tipo_cliente\n",
    "\n",
    "#### <b>Tabela 2</b>\n",
    "\n",
    "#### Nome da tabela: produto\n",
    "#### Colunas: codigo_produto, nome_produto, descricao_produto, codigo_tipo_produto, tipo_produto, codigo_diretor_responsavel, nome_diretor_responsavel, email_diretor_responsavel\n",
    "\n",
    "### <b>1)</b> Ainda sem fazer normalizações, apresente o modelo conceitual deste esboço oferecido pelo gestor, destacando atributos chaves e multivalorados, caso existam, e apresentando também a cardinalidade dos relacionamentos.\n"
   ]
  },
  {
   "cell_type": "markdown",
   "metadata": {},
   "source": [
    "![Alt text](imagens/tabela_conceitual_1.png)"
   ]
  },
  {
   "cell_type": "markdown",
   "metadata": {},
   "source": [
    "### <b>2)</b> Agora apresente um modelo lógico que expresse as mesmas informações e relacionamentos descritos no modelo original, mas decompondo-os quando necessário para que sejam respeitadas as 3 primeiras formas normais. Destaque atributos chaves e multivalorados, caso existam, e apresente também a cardinalidade dos relacionamentos."
   ]
  },
  {
   "cell_type": "markdown",
   "metadata": {},
   "source": [
    "#### Aplicação das 3 primeiras formas normais:\n",
    "\n",
    "![Alt text](imagens/tabela_conceitual_normal.png)\n",
    "\n",
    "#### Modelagem lógica:\n",
    "\n",
    "![Alt text](imagens/modelagem_logica.png)"
   ]
  },
  {
   "cell_type": "markdown",
   "metadata": {},
   "source": [
    "### Código SQL:"
   ]
  },
  {
   "cell_type": "code",
   "execution_count": null,
   "metadata": {
    "vscode": {
     "languageId": "sql"
    }
   },
   "outputs": [],
   "source": [
    "CREATE TABLE cliente \n",
    "( \n",
    " codigo_cliente INT PRIMARY KEY AUTO INCREMENT,  \n",
    " nome_cliente varchar(100),  \n",
    " sobrenome_cliente varchar(100),  \n",
    " municipio_cliente varchar(100)  \n",
    "); \n",
    "\n",
    "CREATE TABLE produto \n",
    "( \n",
    " codigo_produto INT PRIMARY KEY AUTO INCREMENT,  \n",
    " descricao_produto varchar(200),  \n",
    " nome_produto varchar(100)  \n",
    "); \n",
    "\n",
    "CREATE TABLE tipo_cliente \n",
    "( \n",
    " codigo_tipo_cliente INT PRIMARY KEY AUTO INCREMENT,  \n",
    " nome_tipo_cliente varchar(100)  \n",
    "); \n",
    "\n",
    "CREATE TABLE diretor_resposavel \n",
    "( \n",
    " codigo_diretor_responsavel INT PRIMARY KEY AUTO INCREMENT,  \n",
    " nome_diretor_responsavel varchar(100),  \n",
    " email_diretor_responsavel varchar(100)  \n",
    "); \n",
    "\n",
    "CREATE TABLE tipo_produto \n",
    "( \n",
    " codigo_tipo_produto INT PRIMARY KEY AUTO INCREMENT,\n",
    " nome_tipo_produto varchar(100)    \n",
    "); \n",
    "\n",
    "CREATE TABLE cliente_produto \n",
    "( \n",
    " codigo_produto INT,  \n",
    " codigo_cliente INT \n",
    "); \n",
    "\n",
    "CREATE TABLE produto_tipo \n",
    "( \n",
    " codigo_tipo_produto INT,  \n",
    " codigo_produto INT  \n",
    "); \n",
    "\n",
    "CREATE TABLE diretor_tipo_produto \n",
    "( \n",
    " codigo_diretor_responsavel INT,  \n",
    " codigo_tipo_produto INT  \n",
    "); \n",
    "\n",
    "CREATE TABLE cliente_tipo \n",
    "( \n",
    " codigo_cliente INT,  \n",
    " codigo_tipo_cliente INT  \n",
    "); \n",
    "\n",
    "ALTER TABLE cliente_produto ADD FOREIGN KEY(codigo_produto) REFERENCES produto (codigo_produto)\n",
    "\n",
    "ALTER TABLE cliente_produto ADD FOREIGN KEY(codigo_cliente) REFERENCES cliente (codigo_cliente)\n",
    "\n",
    "ALTER TABLE produto_tipo ADD FOREIGN KEY(codigo_tipo_produto) REFERENCES tipo_produto (codigo_tipo_produto)\n",
    "\n",
    "ALTER TABLE produto_tipo ADD FOREIGN KEY(codigo_produto) REFERENCES produto (codigo_produto)\n",
    "\n",
    "ALTER TABLE diretor_tipo_produto ADD FOREIGN KEY(codigo_diretor_responsavel) REFERENCES diretor_responsavel (codigo_diretor_responsavel)\n",
    "\n",
    "ALTER TABLE diretor_tipo_produto ADD FOREIGN KEY(codigo_tipo_produto) REFERENCES tipo_produto (codigo_tipo_produto)\n",
    "\n",
    "ALTER TABLE cliente_tipo ADD FOREIGN KEY(codigo_cliente) REFERENCES cliente (codigo_cliente)\n",
    "\n",
    "ALTER TABLE cliente_tipo ADD FOREIGN KEY(codigo_tipo_cliente) REFERENCES tipo_cliente (codigo_tipo_cliente)"
   ]
  },
  {
   "cell_type": "markdown",
   "metadata": {},
   "source": [
    "## <b>Consultas SQL simples e complexas em um banco de dados postgres</b>"
   ]
  },
  {
   "cell_type": "markdown",
   "metadata": {},
   "source": [
    "#### Um exemplo de modelo de banco de dados com relacionamento muitos-para-muitos pode ser o de um e-commerce que tem produtos e categorias, onde um produto pode pertencer a várias categorias e uma categoria pode estar associada a vários produtos. Nesse caso, teríamos duas tabelas: \"produtos\" e \"categorias\", com uma tabela intermediária \"produtos_categorias\" para relacionar os produtos às suas categorias."
   ]
  },
  {
   "cell_type": "code",
   "execution_count": null,
   "metadata": {
    "vscode": {
     "languageId": "sql"
    }
   },
   "outputs": [],
   "source": [
    "CREATE TABLE produtos (\n",
    "    id SERIAL PRIMARY KEY,\n",
    "    nome VARCHAR(100) NOT NULL,\n",
    "    preco DECIMAL(10, 2) NOT NULL\n",
    ");\n",
    "\n",
    "CREATE TABLE categorias (\n",
    "    id SERIAL PRIMARY KEY,\n",
    "    nome VARCHAR(100) NOT NULL\n",
    ");\n",
    "\n",
    "CREATE TABLE produtos_categorias (\n",
    "    produto_id INTEGER REFERENCES produtos(id),\n",
    "    categoria_id INTEGER REFERENCES categorias(id),\n",
    "    PRIMARY KEY (produto_id, categoria_id)\n",
    ");"
   ]
  },
  {
   "cell_type": "markdown",
   "metadata": {},
   "source": [
    "### <b>3)</b> Liste os nomes de todos os produtos que custam mais de 100 reais, ordenando-os primeiramente pelo preço e em segundo lugar pelo nome. Use alias para mostrar o nome da coluna nome como \"Produto\" e da coluna preco como \"Valor\". A resposta da consulta não deve mostrar outras colunas de dados."
   ]
  },
  {
   "cell_type": "code",
   "execution_count": null,
   "metadata": {
    "vscode": {
     "languageId": "sql"
    }
   },
   "outputs": [],
   "source": [
    "select nome as Produto, preco as Valor \n",
    "from produtos\n",
    "where preco > 100\n",
    "order by preco, nome"
   ]
  },
  {
   "cell_type": "markdown",
   "metadata": {},
   "source": [
    "### <b>4)</b> Liste todos os ids e preços de produtos cujo preço seja maior do que a média de todos os preços encontrados na tabela \"produtos\"."
   ]
  },
  {
   "cell_type": "code",
   "execution_count": null,
   "metadata": {
    "vscode": {
     "languageId": "sql"
    }
   },
   "outputs": [],
   "source": [
    "select id as ID, preco as Valor from produtos where preco > (select avg(preco) from produtos)"
   ]
  },
  {
   "cell_type": "markdown",
   "metadata": {},
   "source": [
    "### <b>5)</b> Para cada categoria, mostre o preço médio do conjunto de produtos a ela associados. Caso uma categoria não tenha nenhum produto a ela associada, esta categoria não deve aparecer no resultado final. A consulta deve estar ordenada pelos nomes das categorias."
   ]
  },
  {
   "cell_type": "code",
   "execution_count": null,
   "metadata": {
    "vscode": {
     "languageId": "sql"
    }
   },
   "outputs": [],
   "source": [
    "select avg(p.preco) as Média, c.nome Categoria\n",
    "from produtos p\n",
    "inner join produtos_categorias pc on pc.produto_id = p.id\n",
    "inner join categorias c on c.id = pc.categoria_id\n",
    "group by c.nome\n",
    "order by c.nome\n"
   ]
  },
  {
   "cell_type": "markdown",
   "metadata": {},
   "source": [
    "## <b>Inserções, alterações e remoções de objetos e dados em um banco de dados postgres</b>"
   ]
  },
  {
   "cell_type": "markdown",
   "metadata": {},
   "source": [
    "#### Você está participando de um processo seletivo para trabalhar como cientista de dados na Ada, uma das maiores formadoras do país em áreas correlatadas à tecnologia. Dividido em algumas etapas, o processo tem o objetivo de avaliar você nos quesitos Python, Machine Learning e Bancos de Dados. Ainda que os dois primeiros sejam o cerne da sua atuação no dia-a-dia, considera-se que Bancos de Dados também constituem um requisito importante e, por isso, esta etapa pode ser a oportunidade que você precisava para se destacar dentre os seus concorrentes, demonstrando um conhecimento mais amplo do que os demais."
   ]
  },
  {
   "cell_type": "markdown",
   "metadata": {},
   "source": [
    "### <b>6)</b> Com o objetivo de demonstrar o seu conhecimento através de um exemplo contextualizado com o dia-a-dia da escola, utilize os comandos do subgrupo de funções DDL para construir o banco de dados simples abaixo, que representa um relacionamento do tipo 1,n entre as entidades \"aluno\" e \"turma\":"
   ]
  },
  {
   "cell_type": "markdown",
   "metadata": {},
   "source": [
    "#### <b>Tabela 1</b>\n",
    "\n",
    "#### Nome da tabela: aluno\n",
    "\n",
    "#### Colunas da tabela: id_aluno (INT), nome_aluno (VARCHAR), aluno_alocado (BOOLEAN), id_turma (INT)\n",
    "\n",
    "#### <b>Tabela 2</b>\n",
    "\n",
    "#### Nome da tabela: turma\n",
    "\n",
    "#### Colunas da tabela: id_turma (INT), código_turma (VARCHAR), nome_turma (VARCHAR)"
   ]
  },
  {
   "cell_type": "code",
   "execution_count": null,
   "metadata": {
    "vscode": {
     "languageId": "sql"
    }
   },
   "outputs": [],
   "source": [
    "create table aluno (\n",
    "    id_aluno int auto_increment primary key,\n",
    "    nome_aluno varchar(200) not null,\n",
    "    aluno_alocado boolean,\n",
    "    id_turma int\n",
    ")\n",
    "\n",
    "create table turma (\n",
    "    id_turma int auto_increment primary key,\n",
    "    codigo_turma varchar(200) not null,\n",
    "    nome_turma varchar(200) not null\n",
    ")\n",
    "\n",
    "alter table aluno add foreign key (id_turma) references turma (id_turma)\n"
   ]
  },
  {
   "cell_type": "markdown",
   "metadata": {},
   "source": [
    "### <b>7)</b> Agora que você demonstrou que consegue ser mais do que um simples usuário do banco de dados, mostre separadamente cada um dos códigos DML necessários para cumprir cada uma das etapas a seguir:"
   ]
  },
  {
   "cell_type": "markdown",
   "metadata": {},
   "source": [
    "### a) Inserir pelo menos duas turmas diferentes na tabela de turma;"
   ]
  },
  {
   "cell_type": "code",
   "execution_count": null,
   "metadata": {
    "vscode": {
     "languageId": "sql"
    }
   },
   "outputs": [],
   "source": [
    "insert into turma (codigo_turma, nome_turma) values \n",
    "(\"3a\", \"terceiro ano A\"),\n",
    "(\"3b\", \"terceiro ano B\")"
   ]
  },
  {
   "cell_type": "markdown",
   "metadata": {},
   "source": [
    "### b) Inserir pelo menos 1 aluno alocado em cada uma destas turmas na tabela aluno (todos com NULL na coluna aluno_alocado);"
   ]
  },
  {
   "cell_type": "code",
   "execution_count": null,
   "metadata": {
    "vscode": {
     "languageId": "sql"
    }
   },
   "outputs": [],
   "source": [
    "insert into aluno (nome_aluno, id_turma) values \n",
    "(\"Thiago\", 1),\n",
    "(\"Gabriel\", 2)"
   ]
  },
  {
   "cell_type": "markdown",
   "metadata": {},
   "source": [
    "### c) Inserir pelo menos 2 alunos não alocados em nenhuma turma na tabela aluno (todos com NULL na coluna aluno_alocado);"
   ]
  },
  {
   "cell_type": "code",
   "execution_count": null,
   "metadata": {
    "vscode": {
     "languageId": "sql"
    }
   },
   "outputs": [],
   "source": [
    "insert into aluno (nome_aluno) values \n",
    "(\"João\"),\n",
    "(\"Felipe\")\n"
   ]
  },
  {
   "cell_type": "markdown",
   "metadata": {},
   "source": [
    "### d) Atualizar a coluna aluno_alocado da tabela aluno, de modo que os alunos associados a uma disciplina recebam o valor True e alunos não associdos a nenhuma disciplina recebam o falor False para esta coluna."
   ]
  },
  {
   "cell_type": "code",
   "execution_count": null,
   "metadata": {
    "vscode": {
     "languageId": "sql"
    }
   },
   "outputs": [],
   "source": [
    "update aluno\n",
    "set aluno_alocado = case \n",
    "    when id_turma is not null then true  \n",
    "    else false\n",
    "end\n"
   ]
  }
 ],
 "metadata": {
  "kernelspec": {
   "display_name": "avaliacao_banco_de_dados",
   "language": "python",
   "name": "python3"
  },
  "language_info": {
   "codemirror_mode": {
    "name": "ipython",
    "version": 3
   },
   "file_extension": ".py",
   "mimetype": "text/x-python",
   "name": "python",
   "nbconvert_exporter": "python",
   "pygments_lexer": "ipython3",
   "version": "3.11.5"
  },
  "orig_nbformat": 4
 },
 "nbformat": 4,
 "nbformat_minor": 2
}
