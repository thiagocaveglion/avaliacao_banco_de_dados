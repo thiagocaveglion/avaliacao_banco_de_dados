{
 "cells": [
  {
   "cell_type": "markdown",
   "metadata": {},
   "source": [
    "## Avaliação Bancos de Dados I\n",
    "---"
   ]
  },
  {
   "cell_type": "markdown",
   "metadata": {},
   "source": [
    "### Modelagem e normalização de bancos de dados relacionais\n",
    "Certo dia, um dos gestores do banco em que você trabalha como cientista de dados procurou você pedindo ajuda para projetar um pequeno banco de dados com o objetivo de mapear os clientes da companhia pelos diferentes produtos financeiros que eles contrataram.\n",
    "\n",
    "O gestor explicou que o banco tinha uma grande quantidade de clientes e oferecia uma variedade de produtos financeiros, como cartões de crédito, empréstimos, seguros e investimentos. No entanto, eles estavam tendo dificuldades para entender quais produtos eram mais populares entre os clientes e como esses produtos estavam interagindo entre si.\n",
    "\n",
    "Como ponto de partida, o gestor deixou claro que um cliente pode contratar vários produtos diferentes ao passo que um mesmo produto pode também estar associado a vários clientes diferentes e elaborou um rústico esboço de banco de dados com duas tabelas, da seguinte forma:"
   ]
  },
  {
   "cell_type": "markdown",
   "metadata": {},
   "source": [
    "#### Tabela 1\n",
    "\n",
    "- Nome da tabela: cliente\n",
    "- Colunas: codigo_cliente, nome_cliente, sobrenome_cliente, telefones_cliente, municipio_cliente, codigo_tipo_cliente, tipo_cliente\n",
    "\n",
    "#### Tabela 2\n",
    "\n",
    "- Nome da tabela: produto\n",
    "- Colunas: codigo_produto, nome_produto, descricao_produto, codigo_tipo_produto, tipo_produto, codigo_diretor_responsavel, nome_diretor_responsavel, email_diretor_responsavel\n",
    "\n",
    "#### 1. Ainda sem fazer normalizações, apresente o modelo conceitual deste esboço oferecido pelo gestor, destacando atributos chaves e multivalorados, caso existam, e apresentando também a cardinalidade dos relacionamentos.\n"
   ]
  },
  {
   "cell_type": "markdown",
   "metadata": {},
   "source": [
    "![Alt text](imagens/tabela_conceitual_1.png)"
   ]
  },
  {
   "cell_type": "markdown",
   "metadata": {},
   "source": [
    "#### 2. Agora apresente um modelo lógico que expresse as mesmas informações e relacionamentos descritos no modelo original, mas decompondo-os quando necessário para que sejam respeitadas as 3 primeiras formas normais. Destaque atributos chaves e multivalorados, caso existam, e apresente também a cardinalidade dos relacionamentos."
   ]
  },
  {
   "cell_type": "markdown",
   "metadata": {},
   "source": [
    "#### Aplicação das 3 primeiras formas normais:\n",
    "\n",
    "![Alt text](imagens/tabela_conceitual_normal.png)\n",
    "\n",
    "#### Modelagem lógica:\n",
    "\n",
    "![Alt text](imagens/modelagem_logica.png)"
   ]
  },
  {
   "cell_type": "markdown",
   "metadata": {},
   "source": [
    "### Código SQL:"
   ]
  },
  {
   "cell_type": "code",
   "execution_count": null,
   "metadata": {
    "vscode": {
     "languageId": "sql"
    }
   },
   "outputs": [],
   "source": [
    "CREATE TABLE cliente \n",
    "( \n",
    " codigo_cliente INT PRIMARY KEY AUTO INCREMENT,  \n",
    " nome_cliente varchar(100),  \n",
    " sobrenome_cliente varchar(100),  \n",
    " municipio_cliente varchar(100)  \n",
    "); \n",
    "\n",
    "CREATE TABLE produto \n",
    "( \n",
    " codigo_produto INT PRIMARY KEY AUTO INCREMENT,  \n",
    " descricao_produto varchar(200),  \n",
    " nome_produto varchar(100)  \n",
    "); \n",
    "\n",
    "CREATE TABLE tipo_cliente \n",
    "( \n",
    " codigo_tipo_cliente INT PRIMARY KEY AUTO INCREMENT,  \n",
    " nome_tipo_cliente varchar(100)  \n",
    "); \n",
    "\n",
    "CREATE TABLE diretor_resposavel \n",
    "( \n",
    " codigo_diretor_responsavel INT PRIMARY KEY AUTO INCREMENT,  \n",
    " nome_diretor_responsavel varchar(100),  \n",
    " email_diretor_responsavel varchar(100)  \n",
    "); \n",
    "\n",
    "CREATE TABLE tipo_produto \n",
    "( \n",
    " codigo_tipo_produto INT PRIMARY KEY AUTO INCREMENT,\n",
    " nome_tipo_produto varchar(100)    \n",
    "); \n",
    "\n",
    "CREATE TABLE cliente_produto \n",
    "( \n",
    " codigo_produto INT,  \n",
    " codigo_cliente INT \n",
    "); \n",
    "\n",
    "CREATE TABLE produto_tipo \n",
    "( \n",
    " codigo_tipo_produto INT,  \n",
    " codigo_produto INT  \n",
    "); \n",
    "\n",
    "CREATE TABLE diretor_tipo_produto \n",
    "( \n",
    " codigo_diretor_responsavel INT,  \n",
    " codigo_tipo_produto INT  \n",
    "); \n",
    "\n",
    "CREATE TABLE cliente_tipo \n",
    "( \n",
    " codigo_cliente INT,  \n",
    " codigo_tipo_cliente INT  \n",
    "); \n",
    "\n",
    "ALTER TABLE cliente_produto ADD FOREIGN KEY(codigo_produto) REFERENCES produto (codigo_produto)\n",
    "\n",
    "ALTER TABLE cliente_produto ADD FOREIGN KEY(codigo_cliente) REFERENCES cliente (codigo_cliente)\n",
    "\n",
    "ALTER TABLE produto_tipo ADD FOREIGN KEY(codigo_tipo_produto) REFERENCES tipo_produto (codigo_tipo_produto)\n",
    "\n",
    "ALTER TABLE produto_tipo ADD FOREIGN KEY(codigo_produto) REFERENCES produto (codigo_produto)\n",
    "\n",
    "ALTER TABLE diretor_tipo_produto ADD FOREIGN KEY(codigo_diretor_responsavel) REFERENCES diretor_responsavel (codigo_diretor_responsavel)\n",
    "\n",
    "ALTER TABLE diretor_tipo_produto ADD FOREIGN KEY(codigo_tipo_produto) REFERENCES tipo_produto (codigo_tipo_produto)\n",
    "\n",
    "ALTER TABLE cliente_tipo ADD FOREIGN KEY(codigo_cliente) REFERENCES cliente (codigo_cliente)\n",
    "\n",
    "ALTER TABLE cliente_tipo ADD FOREIGN KEY(codigo_tipo_cliente) REFERENCES tipo_cliente (codigo_tipo_cliente)"
   ]
  },
  {
   "cell_type": "markdown",
   "metadata": {},
   "source": [
    "### Consultas SQL simples e complexas em um banco de dados postgres\n",
    "Um exemplo de modelo de banco de dados com relacionamento muitos-para-muitos pode ser o de um e-commerce que tem produtos e categorias, onde um produto pode pertencer a várias categorias e uma categoria pode estar associada a vários produtos. Nesse caso, teríamos duas tabelas: \"produtos\" e \"categorias\", com uma tabela intermediária \"produtos_categorias\" para relacionar os produtos às suas categorias."
   ]
  },
  {
   "cell_type": "code",
   "execution_count": null,
   "metadata": {
    "vscode": {
     "languageId": "sql"
    }
   },
   "outputs": [],
   "source": [
    "CREATE TABLE produtos (\n",
    "    id SERIAL PRIMARY KEY,\n",
    "    nome VARCHAR(100) NOT NULL,\n",
    "    preco DECIMAL(10, 2) NOT NULL,\n",
    ");\n",
    "\n",
    "CREATE TABLE categorias (\n",
    "    id SERIAL PRIMARY KEY,\n",
    "    nome VARCHAR(100) NOT NULL\n",
    ");\n",
    "\n",
    "CREATE TABLE produtos_categorias (\n",
    "    produto_id INTEGER REFERENCES produtos(id),\n",
    "    categoria_id INTEGER REFERENCES categorias(id),\n",
    "    PRIMARY KEY (produto_id, categoria_id)\n",
    ");"
   ]
  }
 ],
 "metadata": {
  "kernelspec": {
   "display_name": "avaliacao_banco_de_dados",
   "language": "python",
   "name": "python3"
  },
  "language_info": {
   "codemirror_mode": {
    "name": "ipython",
    "version": 3
   },
   "file_extension": ".py",
   "mimetype": "text/x-python",
   "name": "python",
   "nbconvert_exporter": "python",
   "pygments_lexer": "ipython3",
   "version": "3.11.5"
  },
  "orig_nbformat": 4
 },
 "nbformat": 4,
 "nbformat_minor": 2
}
